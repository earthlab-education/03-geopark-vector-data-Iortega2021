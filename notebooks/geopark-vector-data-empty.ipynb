{
  "cells": [
    {
      "cell_type": "markdown",
      "metadata": {
        "id": "yBYGUIzHGUiJ"
      },
      "source": [
        "Let's get started working with spatial data! In this notebook you'll learn how to open and plot GeoDataFrames as shapefiles (.shp) in `Python` using the `Geopandas` library. We'll also demonstrate how to make an interactive map using `Folium`.\n",
        "\n",
        "You can read more about working with **Geopandas** here:\n",
        "> * [Earth Data Science Textbook](https://www.earthdatascience.org/courses/use-data-open-source-python/intro-vector-data-python/spatial-data-vector-shapefiles/)\n",
        "> * [Geopandas Documentation](https://geopandas.org/en/stable/getting_started/introduction.html)\n",
        "\n",
        "Read more about **Folium** here: \n",
        "> * [Earth Data Science Textbook](https://www.earthdatascience.org/tutorials/introduction-to-leaflet-animated-maps/) \n",
        "> * [Folium Documentation](https://python-visualization.github.io/folium/latest/getting_started.html)\n",
        "\n",
        "From Earth Data Science textbook: \n",
        "\n",
        "![](https://www.earthdatascience.org/images/courses/earth-analytics/spatial-data/points-lines-polygons-vector-data-types.png)"
      ]
    },
    {
      "cell_type": "code",
      "execution_count": null,
      "metadata": {
        "id": "_cFkQHA8xY3e"
      },
      "outputs": [],
      "source": [
        "# Import Python libraries\n",
        "import matplotlib.pyplot as plt\n",
        "import pandas as pd\n",
        "import geopandas as gpd"
      ]
    },
    {
      "cell_type": "code",
      "execution_count": null,
      "metadata": {
        "id": "uutOw-fVxd9m"
      },
      "outputs": [],
      "source": [
        "# Download Colombia boundary\n",
        "colombia_boundary_url = (\"https://maps.princeton.edu/download/file/tufts-colombia-municipalities-11-shapefile.zip\")\n",
        "\n",
        "# Open Colombia boundary .shp with geopandas\n"
      ]
    },
    {
      "cell_type": "markdown",
      "metadata": {
        "id": "SeohkclML1k0"
      },
      "source": [
        "## **Department Boundaries**"
      ]
    },
    {
      "cell_type": "code",
      "execution_count": null,
      "metadata": {
        "id": "tjZHz8Fq1Bs1"
      },
      "outputs": [],
      "source": [
        "# Colombia Admin boundaries\n",
        "dept_url = (\"https://stacks.stanford.edu/file/druid:mj028ht5751/data.zip\")\n",
        "\n",
        "# Open data with geopandas\n"
      ]
    },
    {
      "cell_type": "code",
      "execution_count": null,
      "metadata": {
        "id": "sHrvE7xz35cx"
      },
      "outputs": [],
      "source": [
        "# Explore department boundary data using .info()\n",
        "\n",
        "\n",
        "# Look at \"NAME_2\" column values\n"
      ]
    },
    {
      "cell_type": "code",
      "execution_count": null,
      "metadata": {
        "id": "1oB0RRJ3t2Op"
      },
      "outputs": [],
      "source": [
        "# Select Amazonas municipality\n"
      ]
    },
    {
      "cell_type": "code",
      "execution_count": null,
      "metadata": {
        "id": "twg0hmfEuyoO"
      },
      "outputs": [],
      "source": [
        "# Select Puerto Nariño\n"
      ]
    },
    {
      "cell_type": "code",
      "execution_count": null,
      "metadata": {
        "id": "GqbgzzEhu8Sx"
      },
      "outputs": [],
      "source": [
        "# Plot Puerto Nariño\n"
      ]
    },
    {
      "cell_type": "code",
      "execution_count": null,
      "metadata": {
        "id": "CkZYc7b55xgL"
      },
      "outputs": [],
      "source": [
        "# Plot the Colombia geodataframe using Matplotlib\n"
      ]
    },
    {
      "cell_type": "markdown",
      "metadata": {
        "id": "0zjhLA2auo8v"
      },
      "source": [
        "## **Petroleum & Gas (2013)**"
      ]
    },
    {
      "cell_type": "code",
      "execution_count": null,
      "metadata": {
        "id": "3vn4G4bcuOJ0"
      },
      "outputs": [],
      "source": [
        "# Oil & Gas (point shapefile)\n",
        "\n",
        "# Citation: Petroleum and Gas Extraction Sites Colombia 2013. [Shapefile].\n",
        "# Sistema de Inforrmacion Ambiental de Colombia (SIAC).\n",
        "# Retrieved from https://maps.princeton.edu/catalog/tufts-colombia-petroleumgasexplotation-sites-13\n",
        "\n",
        "oil_url = (\"https://maps.princeton.edu/download/file/tufts-colombia-petroleumgasexplotation-sites-13-shapefile.zip\")\n",
        "\n",
        "# Open the oil and gas data using geopandas\n",
        "\n"
      ]
    },
    {
      "cell_type": "code",
      "execution_count": null,
      "metadata": {
        "id": "i2aOrOdjPAVN"
      },
      "outputs": [],
      "source": [
        "# Print all the entries in the 'SOLICITANT' column using .to_string(index=False)\n"
      ]
    },
    {
      "cell_type": "code",
      "execution_count": null,
      "metadata": {
        "id": "5qGZ-QMcu2y3"
      },
      "outputs": [],
      "source": [
        "# Plot Oil and Gas (2013) Locations on the Colombia boundary using Matplotlib\n"
      ]
    },
    {
      "cell_type": "markdown",
      "metadata": {
        "id": "rtGEdVnoLTN5"
      },
      "source": [
        "## **Rivers**"
      ]
    },
    {
      "cell_type": "code",
      "execution_count": null,
      "metadata": {
        "id": "jB_knVH6yEci"
      },
      "outputs": [],
      "source": [
        "# Open Colombia rivers\n",
        "rivers_url = (\"https://maps.princeton.edu/download/file/tufts-colombia-major-rivers-11-shapefile.zip\")\n",
        "\n",
        "# Open rivers using geopandas\n"
      ]
    },
    {
      "cell_type": "code",
      "execution_count": null,
      "metadata": {
        "id": "CKy7sJSCWZfo"
      },
      "outputs": [],
      "source": [
        "# Examine the data using .info()\n",
        "\n",
        "# Print the rivers Coordinate Reference System (CRS)\n"
      ]
    },
    {
      "cell_type": "code",
      "execution_count": null,
      "metadata": {
        "id": "52628cBya4zU"
      },
      "outputs": [],
      "source": [
        "# Plot the rivers data using .plot()\n"
      ]
    },
    {
      "cell_type": "markdown",
      "metadata": {
        "id": "irGpaSDoLVvn"
      },
      "source": [
        "## **Roads**"
      ]
    },
    {
      "cell_type": "code",
      "execution_count": null,
      "metadata": {
        "id": "xcs9WAtTJi6s"
      },
      "outputs": [],
      "source": [
        "# Open Columbia roads (850,000 entries!)\n",
        "roads_url = (\"https://maps.princeton.edu/download/file/tufts-colombia-roads-11-shapefile.zip\")\n",
        "\n",
        "# Open the roads data using geopandas\n"
      ]
    },
    {
      "cell_type": "code",
      "execution_count": null,
      "metadata": {
        "id": "tn6uKQHrMTLk"
      },
      "outputs": [],
      "source": [
        "# Explore data using .info()\n",
        "roads_gdf.info()"
      ]
    },
    {
      "cell_type": "markdown",
      "metadata": {
        "id": "ij3Ojb0SLNsu"
      },
      "source": [
        "## **Airports**"
      ]
    },
    {
      "cell_type": "code",
      "execution_count": null,
      "metadata": {
        "id": "ctx3wcTl6DNY"
      },
      "outputs": [],
      "source": [
        "# Download Airports data\n",
        "col_airports_url = \"https://maps.princeton.edu/download/file/tufts-colombia-mainairports-14-shapefile.zip\"\n",
        "\n",
        "# Open airports data using geopandas\n"
      ]
    },
    {
      "cell_type": "code",
      "execution_count": null,
      "metadata": {
        "id": "Urt-_d4t7xAm"
      },
      "outputs": [],
      "source": [
        "# Determine number of airport types per admin designation using pd.crosstab()\n"
      ]
    },
    {
      "cell_type": "code",
      "execution_count": null,
      "metadata": {
        "id": "KL44jX4jamd5"
      },
      "outputs": [],
      "source": [
        "# Plot the airports data using .plot()\n"
      ]
    },
    {
      "cell_type": "code",
      "execution_count": null,
      "metadata": {
        "id": "fmQY6Yd0CaFQ"
      },
      "outputs": [],
      "source": [
        "# Looking at airport data as csv (pandas df) [from the previous notebook]\n",
        "col_airports_df = pd.read_csv(\"https://ourairports.com/countries/CO/airports.csv\")\n",
        "col_airports_df"
      ]
    },
    {
      "cell_type": "code",
      "execution_count": null,
      "metadata": {
        "id": "iPDg2Hsy9ocp"
      },
      "outputs": [],
      "source": [
        "# Create geodataframe from pandas df\n",
        "\n",
        "\n",
        "# Convert to shp\n",
        "\n",
        "\n",
        "# Call the 'new' col_airports_gdf2\n"
      ]
    },
    {
      "cell_type": "code",
      "execution_count": null,
      "metadata": {
        "id": "PBD9ia-MIID6"
      },
      "outputs": [],
      "source": [
        "# Select only international, military and national airports from col_airports_gdf\n"
      ]
    },
    {
      "cell_type": "code",
      "execution_count": null,
      "metadata": {
        "id": "drR4LdEH-t0w"
      },
      "outputs": [],
      "source": [
        "# Create map of Colombia boundaries, rivers, airports, and roads on the same axis using Matplotlib\n"
      ]
    },
    {
      "cell_type": "code",
      "execution_count": null,
      "metadata": {
        "id": "C3mx3SUmf7Wc"
      },
      "outputs": [],
      "source": [
        "# Conservation Areas\n",
        "conservation_url = \"https://maps.princeton.edu/download/file/tufts-colombia-prioritizedenvconsareas-12-shapefile.zip\"\n",
        "\n",
        "conservation_gdf = gpd.read_file(conservation_url)\n",
        "conservation_gdf"
      ]
    },
    {
      "cell_type": "code",
      "execution_count": null,
      "metadata": {
        "id": "JTkZa5YbDT8D"
      },
      "outputs": [],
      "source": [
        "# Forest areas\n",
        "forest_url = \"https://maps.princeton.edu/download/file/tufts-colombia-forest-reserves-12-shapefile.zip\"\n",
        "\n",
        "forest_gdf = gpd.read_file(forest_url)\n",
        "forest_gdf"
      ]
    },
    {
      "cell_type": "code",
      "execution_count": null,
      "metadata": {
        "id": "h0x2WZBygQqz"
      },
      "outputs": [],
      "source": [
        "# Plot the conservation areas using .plot() and color by 'PRIORIDAD'\n"
      ]
    },
    {
      "cell_type": "code",
      "execution_count": null,
      "metadata": {
        "id": "l518zTOKh2b-"
      },
      "outputs": [],
      "source": [
        "# Plot Colombia boundaries and forested areas colored by 'nombre_zrf' on same axis using Matplotlib\n"
      ]
    },
    {
      "cell_type": "code",
      "execution_count": null,
      "metadata": {
        "id": "pNUINN91jGyo"
      },
      "outputs": [],
      "source": [
        "# Mining Areas\n",
        "mining_url = \"https://maps.princeton.edu/download/file/tufts-colombia-miningprojects-13-shapefile.zip\"\n",
        "mining_gdf = gpd.read_file(mining_url)\n",
        "mining_gdf.plot()"
      ]
    },
    {
      "cell_type": "code",
      "execution_count": null,
      "metadata": {
        "id": "dhdPKhqsjYsq"
      },
      "outputs": [],
      "source": [
        "# Petroleum / Gas exploration 2014 - *Polygon\n",
        "gas_2014_url = \"https://maps.princeton.edu/download/file/tufts-colombia-petroleumgasexplorationareas-14-shapefile.zip\"\n",
        "\n",
        "# Open data using geopandas and plot using .plot() color by 'SOLICITANT'\n"
      ]
    },
    {
      "cell_type": "code",
      "execution_count": null,
      "metadata": {
        "id": "hMU6tCDZjvGi"
      },
      "outputs": [],
      "source": [
        "# Plot the oil and gas (2014) polygon on the Colombia boundary using Matplotlib\n"
      ]
    },
    {
      "cell_type": "markdown",
      "metadata": {
        "id": "Hjc7s84Sb-UV"
      },
      "source": [
        "## **Focusing on one Department (Cauca)**\n",
        "\n",
        "\n",
        "*   Select Department\n",
        "*   Clip roads, rivers, airports to Cauca\n",
        "*   Plot all layers on common axis\n",
        "\n",
        "\n"
      ]
    },
    {
      "cell_type": "code",
      "execution_count": null,
      "metadata": {
        "id": "TIkO7mWfb9b4"
      },
      "outputs": [],
      "source": [
        "# Select Cauca (Deptarmento)\n"
      ]
    },
    {
      "cell_type": "code",
      "execution_count": null,
      "metadata": {
        "id": "kfBprF7gD3Pa"
      },
      "outputs": [],
      "source": [
        "# Select Florencia (Municipio)\n"
      ]
    },
    {
      "cell_type": "code",
      "execution_count": null,
      "metadata": {
        "id": "zceXzvAU32e7"
      },
      "outputs": [],
      "source": [
        "# Print the CRS for Cacua and the rivers_gdf data\n"
      ]
    },
    {
      "cell_type": "code",
      "execution_count": null,
      "metadata": {
        "id": "OHVxmFnZ4GVk"
      },
      "outputs": [],
      "source": [
        "# Reproject rivers_gdf to Cauca CRS (EPSG:4326)\n"
      ]
    },
    {
      "cell_type": "code",
      "execution_count": null,
      "metadata": {
        "id": "bjteMawpepaf"
      },
      "outputs": [],
      "source": [
        "# Clip rivers to Cauca boundary using gpd.clip() and plot using .plot()\n"
      ]
    },
    {
      "cell_type": "code",
      "execution_count": null,
      "metadata": {
        "id": "N1cBSrUIgra_"
      },
      "outputs": [],
      "source": [
        "# Reproject col_airports_gdf to Cauca CRS\n",
        "\n",
        "\n",
        "# Clip airports to Cauca boundary\n",
        "\n",
        "\n",
        "# Plot Cauca airports\n"
      ]
    },
    {
      "cell_type": "code",
      "execution_count": null,
      "metadata": {
        "id": "7JQuvC8gyr87"
      },
      "outputs": [],
      "source": [
        "# Reproject oil/gas to Cauca CRS\n",
        "\n",
        "\n",
        "\n",
        "# Clip oil & gas to Cauca\n"
      ]
    },
    {
      "cell_type": "code",
      "execution_count": null,
      "metadata": {
        "id": "GBcbqaPCeEFy"
      },
      "outputs": [],
      "source": [
        "# Reproject roads to Cauca CRS\n",
        "\n",
        "\n",
        "\n",
        "# Clip roads to Cauca"
      ]
    },
    {
      "cell_type": "code",
      "execution_count": null,
      "metadata": {
        "id": "XvO-LkkBdpoj"
      },
      "outputs": [],
      "source": [
        "# Plot roads, rivers, oil & gas within Cauca using Matplotlib\n"
      ]
    },
    {
      "cell_type": "markdown",
      "metadata": {
        "id": "Eg88AhAFiHPj"
      },
      "source": [
        "## **Focus on one municipality (Puetro Asis)**\n"
      ]
    },
    {
      "cell_type": "code",
      "execution_count": null,
      "metadata": {
        "id": "vDIf_0yucCvF"
      },
      "outputs": [],
      "source": [
        "# Zoom in on PUERTO ASÍS\n",
        "\n",
        "# Extract PUERTO ASÍS from Putumayo boundary\n",
        "\n",
        "\n",
        "# Clip oil gas points 2013 to PUERTO ASÍS boundary\n",
        "\n",
        "\n",
        "# Clip rivers to PUERTO ASÍS boundary\n",
        "\n",
        "\n",
        "# Clip roads to PUERTO ASÍS boundary\n",
        "\n",
        "\n",
        "# Clip airports to PUERTO ASÍS boundary\n",
        "\n",
        "\n",
        "# Clip gas/oil polygon 2014 to PUERTO ASÍS boundary\n",
        "\n",
        "\n",
        "# Plot Puerto Asis boundary and clipped oil and gas\n",
        "\n",
        "\n",
        "# Define and place legend\n",
        "\n"
      ]
    },
    {
      "cell_type": "markdown",
      "metadata": {
        "id": "plAwFY1Ydkzd"
      },
      "source": [
        "## **Interactive Maps with Folium**"
      ]
    },
    {
      "cell_type": "code",
      "execution_count": null,
      "metadata": {
        "id": "TJ-SuBv2ANyh"
      },
      "outputs": [],
      "source": [
        "# Create an interactive map of airports using folium\n",
        "\n",
        "import folium\n",
        "\n",
        "#Define coordinates of where we want to center our map\n",
        "map_center_coords = [5.0, -72.0]\n",
        "\n",
        "#Create the map\n",
        "my_map = folium.Map(location = map_center_coords, zoom_start = 6)\n",
        "\n",
        "# for lat,long in zip(bigger_air_and_heli.geometry.y, bigger_air_and_heli.geometry.x):\n",
        "#     folium.Marker(\n",
        "#         location=[lat, long],\n",
        "#         #popup=['name']\n",
        "#     ).add_to(my_map)\n",
        "\n",
        "for _, airport_info in inter_mil_nat.iterrows():\n",
        "    folium.Marker(\n",
        "        location=[airport_info.geometry.y, airport_info.geometry.x],\n",
        "        popup=airport_info['nombre']\n",
        "    ).add_to(my_map)\n",
        "\n",
        "my_map"
      ]
    },
    {
      "cell_type": "markdown",
      "metadata": {
        "id": "EJkXVnZLez8i"
      },
      "source": [
        "## **Looking at Geology Data** (hosted on CyVerse)"
      ]
    },
    {
      "cell_type": "code",
      "execution_count": null,
      "metadata": {
        "id": "nRu5Atltdpey"
      },
      "outputs": [],
      "source": [
        "# Open Geology of S America gdf\n",
        "\n",
        "geology_url = (\n",
        "    \"https://data.cyverse.org/dav-anon/iplant/home/shared/\"\n",
        "    \"earthlab/geopark/geo6ag.zip\")\n",
        "\n",
        "geology_gdf = gpd.read_file(geology_url)\n",
        "geology_gdf"
      ]
    },
    {
      "cell_type": "code",
      "execution_count": null,
      "metadata": {
        "id": "K-tFdxyRFg-d"
      },
      "outputs": [],
      "source": [
        "# Clip S America geology to Colombia boundary\n",
        "\n",
        "geog_clipped = geology_gdf.clip(cauca.geometry)\n",
        "geog_clipped"
      ]
    },
    {
      "cell_type": "code",
      "execution_count": null,
      "metadata": {
        "id": "eUcLVGqNJFs9"
      },
      "outputs": [],
      "source": [
        "# Plot clipped geology\n",
        "fig, ax = plt.subplots(figsize=(12,20))\n",
        "geog_clipped.plot(ax=ax,\n",
        "                  column='GLG',\n",
        "                  legend=True)\n",
        "plt.title(\"Geologic Map of Cauca Deptartmento Colombia\", fontsize=25)\n",
        "plt.show()"
      ]
    }
  ],
  "metadata": {
    "colab": {
      "provenance": []
    },
    "kernelspec": {
      "display_name": "Python 3",
      "name": "python3"
    },
    "language_info": {
      "name": "python"
    }
  },
  "nbformat": 4,
  "nbformat_minor": 0
}
